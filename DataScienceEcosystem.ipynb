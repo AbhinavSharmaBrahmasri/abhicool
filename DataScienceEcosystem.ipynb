{
 "cells": [
  {
   "cell_type": "markdown",
   "id": "3ff02f71-2eb2-4cf0-ab8a-b4552a33f02c",
   "metadata": {},
   "source": [
    "# H1:Data Science Tools and Ecosystem"
   ]
  },
  {
   "cell_type": "markdown",
   "id": "1e8e4ffd-d91c-4ae5-93f9-da892200e617",
   "metadata": {},
   "source": [
    "# In this notebook, Data Science Tools and Ecosystem are summarized."
   ]
  },
  {
   "cell_type": "markdown",
   "id": "0b418137-02b3-487a-9435-03e6c4f6163a",
   "metadata": {},
   "source": [
    "Objectives: \n",
    "*Python\n",
    "*R\n",
    "*Julia"
   ]
  },
  {
   "cell_type": "markdown",
   "id": "0db09257-39b2-4b89-a313-667add6cbdad",
   "metadata": {},
   "source": [
    "*Some of the popular languages that Data Scientists use are:*"
   ]
  },
  {
   "cell_type": "markdown",
   "id": "b3957b98-5620-42b6-8635-9c90b1a705bf",
   "metadata": {},
   "source": [
    "1.Python\n",
    "2.R\n",
    "3.Julia"
   ]
  },
  {
   "cell_type": "markdown",
   "id": "c18dd130-b175-45ff-8db9-4c0be3c8ec5b",
   "metadata": {},
   "source": [
    "Some of the commonly used libraries used by Data Scientists include:"
   ]
  },
  {
   "cell_type": "markdown",
   "id": "4f3bc6de-babf-4d0d-ba9c-f96c74845459",
   "metadata": {},
   "source": [
    "1.Matplotlib\n",
    "2.Seaborn\n",
    "3.plotly\n"
   ]
  },
  {
   "cell_type": "markdown",
   "id": "13b6b9b3-2846-4d6b-ade8-a7a8e553269c",
   "metadata": {},
   "source": [
    "# Data Science Tools"
   ]
  },
  {
   "cell_type": "markdown",
   "id": "5ed1083b-0a16-4ea1-9746-bf13ce3e5f3b",
   "metadata": {},
   "source": [
    "|Data Science Tools|\n",
    "|------------------|\n",
    "|Jupyter notebook|\n",
    "|IBM Watson studio|\n",
    "|R studio|"
   ]
  },
  {
   "cell_type": "markdown",
   "id": "0346c708-7106-48a2-8380-d21aade46501",
   "metadata": {},
   "source": [
    "### H3:Below are a few examples of evaluating arithmetic expressions in Python"
   ]
  },
  {
   "cell_type": "code",
   "execution_count": 1,
   "id": "8e3af74e-97a3-4b9e-977d-15bd3af22b0d",
   "metadata": {},
   "outputs": [
    {
     "data": {
      "text/plain": [
       "17"
      ]
     },
     "execution_count": 1,
     "metadata": {},
     "output_type": "execute_result"
    }
   ],
   "source": [
    "#This a simple arithmetic expression to mutiply then add integers.\n",
    "(3*4)+5"
   ]
  },
  {
   "cell_type": "code",
   "execution_count": 2,
   "id": "a8f2e0e5-406d-4f50-8d90-c80359a596a6",
   "metadata": {},
   "outputs": [
    {
     "data": {
      "text/plain": [
       "3.3333333333333335"
      ]
     },
     "execution_count": 2,
     "metadata": {},
     "output_type": "execute_result"
    }
   ],
   "source": [
    "#This will convert 200 minutes to hours by diving by 60.\n",
    "(200/60)"
   ]
  },
  {
   "cell_type": "markdown",
   "id": "5ad1c1da-d43a-4ade-9ca2-f954338b6770",
   "metadata": {},
   "source": [
    "## Author\n",
    "Abhinav Sharma Brahmasri"
   ]
  },
  {
   "cell_type": "code",
   "execution_count": null,
   "id": "06ba2740-a285-4800-ab51-02a31036dfc1",
   "metadata": {},
   "outputs": [],
   "source": []
  },
  {
   "cell_type": "code",
   "execution_count": null,
   "id": "ff8e4db3-9167-4bfa-aa01-63bc0cea18e2",
   "metadata": {},
   "outputs": [],
   "source": []
  }
 ],
 "metadata": {
  "kernelspec": {
   "display_name": "Python 3 (ipykernel)",
   "language": "python",
   "name": "python3"
  },
  "language_info": {
   "codemirror_mode": {
    "name": "ipython",
    "version": 3
   },
   "file_extension": ".py",
   "mimetype": "text/x-python",
   "name": "python",
   "nbconvert_exporter": "python",
   "pygments_lexer": "ipython3",
   "version": "3.11.9"
  }
 },
 "nbformat": 4,
 "nbformat_minor": 5
}
