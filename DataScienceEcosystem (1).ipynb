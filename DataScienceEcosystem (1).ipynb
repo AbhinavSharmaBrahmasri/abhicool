{
 "cells": [
  {
   "cell_type": "markdown",
   "id": "a88c3a76-b70c-468d-b0bd-b66caeb6bdcc",
   "metadata": {},
   "source": [
    "# Data Science Tools and Ecosystem"
   ]
  },
  {
   "cell_type": "markdown",
   "id": "3aecf276-1276-4913-9f16-77c6ab31c41c",
   "metadata": {},
   "source": [
    "In this notebook, Data Science Tools and Ecosystem are summarized."
   ]
  },
  {
   "cell_type": "markdown",
   "id": "2985d052-9db9-4a78-8630-d550d5faac8d",
   "metadata": {},
   "source": [
    "Objectives:\n",
    "    \n",
    "*Python\n",
    "*R\n",
    "*Julia"
   ]
  },
  {
   "cell_type": "markdown",
   "id": "db5b7609-e82b-45d6-9c0d-0e9cfaadafa3",
   "metadata": {},
   "source": [
    "Some of the popular languages that Data Scientists use are:\n",
    "\n",
    "1.Python\n",
    "2.R\n",
    "3.Julia"
   ]
  },
  {
   "cell_type": "markdown",
   "id": "60712b78-10a7-42a1-b1e7-ae680046f31f",
   "metadata": {},
   "source": [
    "Some of the commonly used libraries used by Data Scientists include:\n",
    "    \n",
    "1.Seaborn\n",
    "2.Matplotlib\n",
    "3.Plotly\n",
    "4.Caret"
   ]
  },
  {
   "cell_type": "markdown",
   "id": "a3d69c4b-2bd5-4d82-9b6b-a3800a50ccd7",
   "metadata": {},
   "source": [
    "|Data Science Tools|\n",
    "|------------------|\n",
    "|IBM Watson Studio|\n",
    "|Jupyter lab|\n",
    "|Anaconda navigator|\n",
    "|R studio|\n",
    "|Microsoft Azure|"
   ]
  },
  {
   "cell_type": "markdown",
   "id": "45f0bd17-8a68-4fd0-ba1c-09a5d0ebf948",
   "metadata": {},
   "source": [
    "### Below are a few examples of evaluating arithmetic expressions in Python"
   ]
  },
  {
   "cell_type": "code",
   "execution_count": 1,
   "id": "90d4fab4-d1c9-4dee-8308-14f7025e7953",
   "metadata": {
    "tags": []
   },
   "outputs": [
    {
     "data": {
      "text/plain": [
       "17"
      ]
     },
     "execution_count": 1,
     "metadata": {},
     "output_type": "execute_result"
    }
   ],
   "source": [
    "# This a simple arithmetic expression to mutiply then add integers\n",
    "(3*4)+5"
   ]
  },
  {
   "cell_type": "code",
   "execution_count": 2,
   "id": "b4b38fe7-7aa1-4b9b-9d93-b71188ba4f48",
   "metadata": {
    "tags": []
   },
   "outputs": [
    {
     "data": {
      "text/plain": [
       "3.3333333333333335"
      ]
     },
     "execution_count": 2,
     "metadata": {},
     "output_type": "execute_result"
    }
   ],
   "source": [
    "#This will convert 200 minutes to hours by diving by 60\n",
    "(200/60)"
   ]
  },
  {
   "cell_type": "markdown",
   "id": "d23c35e6-1dbd-4cf7-ba89-c9309e68233c",
   "metadata": {},
   "source": [
    "Objectives:\n",
    "    \n",
    "*Python\n",
    "*R\n",
    "*Julia"
   ]
  },
  {
   "cell_type": "markdown",
   "id": "5659f32c-1335-41b6-b4ac-9bb04521772c",
   "metadata": {},
   "source": [
    "## Author\n",
    "\n",
    "ABHINAV SHARMA BRAHMASRI"
   ]
  },
  {
   "cell_type": "code",
   "execution_count": null,
   "id": "7c2b71d4-b495-441e-b3b8-aef1a9b0cb05",
   "metadata": {},
   "outputs": [],
   "source": []
  }
 ],
 "metadata": {
  "kernelspec": {
   "display_name": "Python",
   "language": "python",
   "name": "conda-env-python-py"
  },
  "language_info": {
   "codemirror_mode": {
    "name": "ipython",
    "version": 3
   },
   "file_extension": ".py",
   "mimetype": "text/x-python",
   "name": "python",
   "nbconvert_exporter": "python",
   "pygments_lexer": "ipython3",
   "version": "3.7.12"
  }
 },
 "nbformat": 4,
 "nbformat_minor": 5
}
